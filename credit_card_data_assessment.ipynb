{
  "cells": [
    {
      "cell_type": "markdown",
      "id": "56e9583b",
      "metadata": {
        "id": "56e9583b"
      },
      "source": [
        "# Credit Card Transactions - Data Engineering Assessment\n",
        "\n",
        "**Author:** *Sammuel*  \n",
        "**Date:** 2025-07-10 9:30\n",
        "\n",
        "## Objective\n",
        "This notebook demonstrates PySpark-based data engineering to:\n",
        "- Load and flatten messy JSON data\n",
        "- Handle PII and dirty fields\n",
        "- Convert timestamps to UTC+8\n",
        "- Extract names from `person_name`\n",
        "- Create visualizations and provide insights\n"
      ]
    },
    {
      "cell_type": "code",
      "execution_count": null,
      "id": "f2c51b72",
      "metadata": {
        "id": "f2c51b72"
      },
      "outputs": [],
      "source": [
        "from pyspark.sql import SparkSession\n",
        "from pyspark.sql.functions import col, split, to_timestamp, from_utc_timestamp, regexp_replace, expr\n",
        "from pyspark.sql.types import StructType, StructField, StringType, DoubleType, LongType, IntegerType, TimestampType\n",
        "\n",
        "spark = SparkSession.builder.appName(\"CreditCardDataCleaning\").getOrCreate()\n"
      ]
    },
    {
      "cell_type": "code",
      "metadata": {
        "colab": {
          "base_uri": "https://localhost:8080/"
        },
        "id": "5928a49d",
        "outputId": "82d552dc-3f09-47a7-dbb7-6f780ea475d2"
      },
      "source": [
        "from google.colab import drive\n",
        "drive.mount('/content/drive')"
      ],
      "id": "5928a49d",
      "execution_count": null,
      "outputs": [
        {
          "output_type": "stream",
          "name": "stdout",
          "text": [
            "Mounted at /content/drive\n"
          ]
        }
      ]
    },
    {
      "cell_type": "markdown",
      "id": "795c9694",
      "metadata": {
        "id": "795c9694"
      },
      "source": [
        "## Step 1: Load JSON Data"
      ]
    },
    {
      "cell_type": "code",
      "execution_count": null,
      "id": "20a0f531",
      "metadata": {
        "colab": {
          "base_uri": "https://localhost:8080/"
        },
        "id": "20a0f531",
        "outputId": "72fabf63-1f2d-474b-dddc-68d827fe9a2b"
      },
      "outputs": [
        {
          "output_type": "stream",
          "name": "stdout",
          "text": [
            "root\n",
            " |-- Unnamed: 0: string (nullable = true)\n",
            " |-- amt: string (nullable = true)\n",
            " |-- category: string (nullable = true)\n",
            " |-- cc_bic: string (nullable = true)\n",
            " |-- cc_num: string (nullable = true)\n",
            " |-- is_fraud: string (nullable = true)\n",
            " |-- merch_eff_time: string (nullable = true)\n",
            " |-- merch_last_update_time: string (nullable = true)\n",
            " |-- merch_lat: string (nullable = true)\n",
            " |-- merch_long: string (nullable = true)\n",
            " |-- merch_zipcode: string (nullable = true)\n",
            " |-- merchant: string (nullable = true)\n",
            " |-- personal_detail: string (nullable = true)\n",
            " |-- trans_date_trans_time: string (nullable = true)\n",
            " |-- trans_num: string (nullable = true)\n",
            "\n",
            "+----------+----+--------+-----------+----------------+--------+----------------+----------------------+---------+----------+-------------+--------------------------+-----------------------------------------------------------------------------------------------------------------------------------------------------------------------------------------------------------------------------------------------------------------------+---------------------+--------------------------------+\n",
            "|Unnamed: 0|amt |category|cc_bic     |cc_num          |is_fraud|merch_eff_time  |merch_last_update_time|merch_lat|merch_long|merch_zipcode|merchant                  |personal_detail                                                                                                                                                                                                                                                        |trans_date_trans_time|trans_num                       |\n",
            "+----------+----+--------+-----------+----------------+--------+----------------+----------------------+---------+----------+-------------+--------------------------+-----------------------------------------------------------------------------------------------------------------------------------------------------------------------------------------------------------------------------------------------------------------------+---------------------+--------------------------------+\n",
            "|0         |4.97|misc_net|CITIUS33CHI|2703186189652095|0       |1325376018798532|1325376018666         |36.011293|-82.048315|28705        |fraud_Rippin, Kub and Mann|{\"person_name\":\"Jennifer,Banks,eeeee\",\"gender\":\"F\",\"address\":\"{\\\"street\\\":\\\"561 Perry Cove\\\",\\\"city\\\":\\\"Moravian Falls\\\",\\\"state\\\":\\\"NC\\\",\\\"zip\\\":\\\"28654\\\"}\",\"lat\":\"36.0788\",\"long\":\"-81.1781\",\"city_pop\":\"3495\",\"job\":\"Psychologist, counselling\",\"dob\":\"1988-03-09\"}|2019-01-01 00:00:18  |0b242abb623afc578575680df30655b9|\n",
            "+----------+----+--------+-----------+----------------+--------+----------------+----------------------+---------+----------+-------------+--------------------------+-----------------------------------------------------------------------------------------------------------------------------------------------------------------------------------------------------------------------------------------------------------------------+---------------------+--------------------------------+\n",
            "\n"
          ]
        }
      ],
      "source": [
        "file_path = \"/content/drive/My Drive/cc_sample_transaction.json\" # Updated path\n",
        "df_raw = spark.read.option(\"multiline\", \"true\").json(file_path)\n",
        "df_raw.printSchema()\n",
        "df_raw.show(5, truncate=False)"
      ]
    },
    {
      "cell_type": "markdown",
      "source": [
        "# Additional Step: Create dummy data to go along with the single data\n",
        "\n",
        "if you ask me I'm baffled with the one record so under own inniative I've generated some dummy data."
      ],
      "metadata": {
        "id": "H0cZ1I8CcXbh"
      },
      "id": "H0cZ1I8CcXbh"
    },
    {
      "cell_type": "code",
      "metadata": {
        "colab": {
          "base_uri": "https://localhost:8080/"
        },
        "id": "5128be5b",
        "outputId": "148cec92-f8ac-4b02-d65c-cafcacae2938"
      },
      "source": [
        "from pyspark.sql import Row\n",
        "from pyspark.sql.types import StructType, StructField, StringType\n",
        "import uuid # Import the uuid library\n",
        "\n",
        "# Define the schema based on df_raw.printSchema()\n",
        "dummy_schema = StructType([\n",
        "    StructField(\"Unnamed: 0\", StringType(), True),\n",
        "    StructField(\"amt\", StringType(), True),\n",
        "    StructField(\"category\", StringType(), True),\n",
        "    StructField(\"cc_bic\", StringType(), True),\n",
        "    StructField(\"cc_num\", StringType(), True),\n",
        "    StructField(\"is_fraud\", StringType(), True),\n",
        "    StructField(\"merch_eff_time\", StringType(), True),\n",
        "    StructField(\"merch_last_update_time\", StringType(), True),\n",
        "    StructField(\"merch_lat\", StringType(), True),\n",
        "    StructField(\"merch_long\", StringType(), True),\n",
        "    StructField(\"merch_zipcode\", StringType(), True),\n",
        "    StructField(\"merchant\", StringType(), True),\n",
        "    StructField(\"personal_detail\", StringType(), True),\n",
        "    StructField(\"trans_date_trans_time\", StringType(), True),\n",
        "    StructField(\"trans_num\", StringType(), True)\n",
        "])\n",
        "\n",
        "# Create some dummy data matching the schema with random short alphanumeric trans_num and realistic merch timestamps\n",
        "dummy_data = [\n",
        "    Row(**{\"Unnamed: 0\": \"dummy_1\", \"amt\": \"10.50\", \"category\": \"shopping_online\", \"cc_bic\": \"DUMMYBIC1\", \"cc_num\": \"1111222233334444\", \"is_fraud\": \"0\", \"merch_eff_time\": \"2023-03-15 09:00:00\", \"merch_last_update_time\": \"2023-03-15 09:30:00\", \"merch_lat\": \"40.7128\", \"merch_long\": \"-74.0060\", \"merch_zipcode\": \"10001\", \"merchant\": \"DummyStore A\", \"personal_detail\": '{\"person_name\":\"John,Doe,aaaaa\",\"gender\":\"M\",\"address\":\"{\\\\\"street\\\\\":\\\\\"123 Dummy St\\\\\",\\\\\"city\\\\\":\\\\\"New York\\\\\",\\\\\"state\\\\\":\\\\\"NY\\\\\",\\\\\"zip\\\\\":\\\\\"10001\\\\\"}\",\"lat\":\"40.7128\",\"long\":\"-74.0060\",\"city_pop\":\"8000000\",\"job\":\"Engineer\",\"dob\":\"1990-01-01\"}', \"trans_date_trans_time\": \"2023-03-15 10:00:00\", \"trans_num\": str(uuid.uuid4().hex)[:12]}),\n",
        "    Row(**{\"Unnamed: 0\": \"dummy_2\", \"amt\": \"55.75\", \"category\": \"food_dining\", \"cc_bic\": \"DUMMYBIC2\", \"cc_num\": \"5555666677778888\", \"is_fraud\": \"1\", \"merch_eff_time\": \"2023-03-16 14:00:00\", \"merch_last_update_time\": \"2023-03-16 14:15:00\", \"merch_lat\": \"34.0522\", \"merch_long\": \"-118.2437\", \"merch_zipcode\": \"90012\", \"merchant\": \"Dummy Restaurant B\", \"personal_detail\": '{\"person_name\":\"Jane,Smith,bbbbb\",\"gender\":\"F\",\"address\":\"{\\\\\"street\\\\\":\\\\\"456 Dummy Ave\\\\\",\\\\\"city\\\\\":\\\\\"Los Angeles\\\\\",\\\\\"state\\\\\":\\\\\"CA\\\\\",\\\\\"zip\\\\\":\\\\\"90012\\\\\"}\",\"lat\":\"34.0522\",\"long\":\"-118.2437\",\"city_pop\":\"4000000\",\"job\":\"Artist\",\"dob\":\"1995-05-10\"}', \"trans_date_trans_time\": \"2023-03-16 14:30:00\", \"trans_num\": str(uuid.uuid4().hex)[:12]}),\n",
        "    Row(**{\"Unnamed: 0\": \"dummy_3\", \"amt\": \"25.00\", \"category\": \"travel\", \"cc_bic\": \"DUMMYBIC3\", \"cc_num\": \"9999888877776666\", \"is_fraud\": \"0\", \"merch_eff_time\": \"2023-03-17 08:00:00\", \"merch_last_update_time\": \"2023-03-17 08:30:00\", \"merch_lat\": \"48.8566\", \"merch_long\": \"2.3522\", \"merch_zipcode\": \"75001\", \"merchant\": \"Dummy Airlines C\", \"personal_detail\": '{\"person_name\":\"Peter,Jones,ccccc\",\"gender\":\"M\",\"address\":\"{\\\\\"street\\\\\":\\\\\"789 Dummy Rd\\\\\",\\\\\"city\\\\\":\\\\\"Paris\\\\\",\\\\\"state\\\\\":\\\\\"FR\\\\\",\\\\\"zip\\\\\":\\\\\"75001\\\\\"}\",\"lat\":\"48.8566\",\"long\":\"2.3522\",\"city_pop\":\"2000000\",\"job\":\"Scientist\",\"dob\":\"1985-11-20\"}', \"trans_date_trans_time\": \"2023-03-17 09:00:00\", \"trans_num\": str(uuid.uuid4().hex)[:12]}),\n",
        "    Row(**{\"Unnamed: 0\": \"dummy_4\", \"amt\": \"150.75\", \"category\": \"electronics\", \"cc_bic\": \"DUMMYBIC4\", \"cc_num\": \"1234567890123456\", \"is_fraud\": \"0\", \"merch_eff_time\": \"2023-03-18 11:00:00\", \"merch_last_update_time\": \"2023-03-18 11:15:00\", \"merch_lat\": \"37.7749\", \"merch_long\": \"-122.4194\", \"merch_zipcode\": \"94101\", \"merchant\": \"Dummy Gadgets D\", \"personal_detail\": '{\"person_name\":\"Mary,Brown,ddddd\",\"gender\":\"F\",\"address\":\"{\\\\\"street\\\\\":\\\\\"101 Dummy Ave\\\\\",\\\\\"city\\\\\":\\\\\"San Francisco\\\\\",\\\\\"state\\\\\":\\\\\"CA\\\\\",\\\\\"zip\\\\\":\\\\\"94101\\\\\"}\",\"lat\":\"37.7749\",\"long\":\"-122.4194\",\"city_pop\":\"900000\",\"job\":\"Software Engineer\",\"dob\":\"1992-07-07\"}', \"trans_date_trans_time\": \"2023-03-18 11:30:00\", \"trans_num\": str(uuid.uuid4().hex)[:12]}),\n",
        "    Row(**{\"Unnamed: 0\": \"dummy_5\", \"amt\": \"5.20\", \"category\": \"gas_transport\", \"cc_bic\": \"DUMMYBIC5\", \"cc_num\": \"2109876543210987\", \"is_fraud\": \"0\", \"merch_eff_time\": \"2023-03-19 15:00:00\", \"merch_last_update_time\": \"2023-03-19 15:30:00\", \"merch_lat\": \"41.8781\", \"merch_long\": \"-87.6298\", \"merch_zipcode\": \"60601\", \"merchant\": \"Dummy Gas Station E\", \"personal_detail\": '{\"person_name\":\"Robert,White,eeeee\",\"gender\":\"M\",\"address\":\"{\\\\\"street\\\\\":\\\\\"246 Dummy Ln\\\\\",\\\\\"city\\\\\":\\\\\"Chicago\\\\\",\\\\\"state\\\\\":\\\\\"IL\\\\\",\\\\\"zip\\\\\":\\\\\"60601\\\\\"}\",\"lat\":\"41.8781\",\"long\":\"-87.6298\",\"city_pop\":\"2700000\",\"job\":\"Teacher\",\"dob\":\"1980-03-15\"}', \"trans_date_trans_time\": \"2023-03-19 16:00:00\", \"trans_num\": str(uuid.uuid4().hex)[:12]}),\n",
        "    Row(**{\"Unnamed: 0\": \"dummy_6\", \"amt\": \"88.99\", \"category\": \"home\", \"cc_bic\": \"DUMMYBIC6\", \"cc_num\": \"3456789012345678\", \"is_fraud\": \"0\", \"merch_eff_time\": \"2023-03-20 08:00:00\", \"merch_last_update_time\": \"2023-03-20 08:10:00\", \"merch_lat\": \"29.7604\", \"merch_long\": \"-95.3698\", \"merch_zipcode\": \"77001\", \"merchant\": \"Dummy Home Goods F\", \"personal_detail\": '{\"person_name\":\"Linda,Green,fffff\",\"gender\":\"F\",\"address\":\"{\\\\\"street\\\\\":\\\\\"369 Dummy Ct\\\\\",\\\\\"city\\\\\":\\\\\"Houston\\\\\",\\\\\"state\\\\\":\\\\\"TX\\\\\",\\\\\"zip\\\\\":\\\\\"77001\\\\\"}\",\"lat\":\"29.7604\",\"long\":\"-95.3698\",\"city_pop\":\"2300000\",\"job\":\"Architect\",\"dob\":\"1998-09-25\"}', \"trans_date_trans_time\": \"2023-03-20 08:15:00\", \"trans_num\": str(uuid.uuid4().hex)[:12]}),\n",
        "    Row(**{\"Unnamed: 0\": \"dummy_7\", \"amt\": \"120.00\", \"category\": \"misc_pos\", \"cc_bic\": \"DUMMYBIC7\", \"cc_num\": \"4321098765432109\", \"is_fraud\": \"1\", \"merch_eff_time\": \"2023-03-21 13:00:00\", \"merch_last_update_time\": \"2023-03-21 13:45:00\", \"merch_lat\": \"33.4484\", \"merch_long\": \"-112.0740\", \"merch_zipcode\": \"85001\", \"merchant\": \"Dummy Store G\", \"personal_detail\": '{\"person_name\":\"James,Black,ggggg\",\"gender\":\"M\",\"address\":\"{\\\\\"street\\\\\":\\\\\"480 Dummy Way\\\\\",\\\\\"city\\\\\":\\\\\"Phoenix\\\\\",\\\\\"state\\\\\":\\\\\"AZ\\\\\",\\\\\"zip\\\\\":\\\\\"85001\\\\\"}\",\"lat\":\"33.4484\",\"long\":\"-112.0740\",\"city_pop\":\"1600000\",\"job\":\"Data Scientist\",\"dob\":\"1983-01-10\"}', \"trans_date_trans_time\": \"2023-03-21 14:00:00\", \"trans_num\": str(uuid.uuid4().hex)[:12]}),\n",
        "    Row(**{\"Unnamed: 0\": \"dummy_8\", \"amt\": \"15.50\", \"category\": \"food_dining\", \"cc_bic\": \"DUMMYBIC8\", \"cc_num\": \"5678901234567890\", \"is_fraud\": \"0\", \"merch_eff_time\": \"2023-03-22 09:00:00\", \"merch_last_update_time\": \"2023-03-22 09:45:00\", \"merch_lat\": \"39.9526\", \"merch_long\": \"-75.1652\", \"merch_zipcode\": \"19101\", \"merchant\": \"Dummy Cafe H\", \"personal_detail\": '{\"person_name\":\"Barbara,White,hhhhh\",\"gender\":\"F\",\"address\":\"{\\\\\"street\\\\\":\\\\\"602 Dummy Blvd\\\\\",\\\\\"city\\\\\":\\\\\"Philadelphia\\\\\",\\\\\"state\\\\\":\\\\\"PA\\\\\",\\\\\"zip\\\\\":\\\\\"19101\\\\\"}\",\"lat\":\"39.9526\",\"long\":\"-75.1652\",\"city_pop\":\"1500000\",\"job\":\"Nurse\",\"dob\":\"1991-06-05\"}', \"trans_date_trans_time\": \"2023-03-22 10:00:00\", \"trans_num\": str(uuid.uuid4().hex)[:12]}),\n",
        "    Row(**{\"Unnamed: 0\": \"dummy_9\", \"amt\": \"220.00\", \"category\": \"shopping_net\", \"cc_bic\": \"DUMMYBIC9\", \"cc_num\": \"6789012345678901\", \"is_fraud\": \"0\", \"merch_eff_time\": \"2023-03-23 13:00:00\", \"merch_last_update_time\": \"2023-03-23 13:30:00\", \"merch_lat\": \"32.7157\", \"merch_long\": \"-117.1611\", \"merch_zipcode\": \"92101\", \"merchant\": \"Dummy Online Shop I\", \"personal_detail\": '{\"person_name\":\"Michael,Brown,iiiii\",\"gender\":\"M\",\"address\":\"{\\\\\"street\\\\\":\\\\\"723 Dummy Ct\\\\\",\\\\\"city\\\\\":\\\\\"San Diego\\\\\",\\\\\"state\\\\\":\\\\\"CA\\\\\",\\\\\"zip\\\\\":\\\\\"92101\\\\\"}\",\"lat\":\"32.7157\",\"long\":\"-117.1611\",\"city_pop\":\"1400000\",\"job\":\"Engineer\",\"dob\":\"1987-02-28\"}', \"trans_date_trans_time\": \"2023-03-23 13:45:00\", \"trans_num\": str(uuid.uuid4().hex)[:12]}),\n",
        "    Row(**{\"Unnamed: 0\": \"dummy_10\", \"amt\": \"7.80\", \"category\": \"personal_care\", \"cc_bic\": \"DUMMYBIC10\", \"cc_num\": \"7890123456789012\", \"is_fraud\": \"0\", \"merch_eff_time\": \"2023-03-24 09:00:00\", \"merch_last_update_time\": \"2023-03-24 09:15:00\", \"merch_lat\": \"47.6062\", \"merch_long\": \"-122.3321\", \"merch_zipcode\": \"98101\", \"merchant\": \"Dummy Pharmacy J\", \"personal_detail\": '{\"person_name\":\"Elizabeth,Jones,jjjjj\",\"gender\":\"F\",\"address\":\"{\\\\\"street\\\\\":\\\\\"851 Dummy St\\\\\",\\\\\"city\\\\\":\\\\\"Seattle\\\\\",\\\\\"state\\\\\":\\\\\"WA\\\\\",\\\\\"zip\\\\\":\\\\\"98101\\\\\"}\",\"lat\":\"47.6062\",\"long\":\"-122.3321\",\"city_pop\":\"750000\",\"job\":\"Doctor\",\"dob\":\"1994-12-12\"}', \"trans_date_trans_time\": \"2023-03-24 09:30:00\", \"trans_num\": str(uuid.uuid4().hex)[:12]}),\n",
        "    Row(**{\"Unnamed: 0\": \"dummy_11\", \"amt\": \"45.00\", \"category\": \"misc_net\", \"cc_bic\": \"DUMMYBIC11\", \"cc_num\": \"8901234567890123\", \"is_fraud\": \"1\", \"merch_eff_time\": \"2023-03-25 16:00:00\", \"merch_last_update_time\": \"2023-03-25 16:30:00\", \"merch_lat\": \"25.7617\", \"merch_long\": \"-80.1918\", \"merch_zipcode\": \"33101\", \"merchant\": \"Dummy Online Service K\", \"personal_detail\": '{\"person_name\":\"David,Miller,kkkkk\",\"gender\":\"M\",\"address\":\"{\\\\\"street\\\\\":\\\\\"974 Dummy Ave\\\\\",\\\\\"city\\\\\":\\\\\"Miami\\\\\",\\\\\"state\\\\\":\\\\\"FL\\\\\",\\\\\"zip\\\\\":\\\\\"33101\\\\\"}\",\"lat\":\"25.7617\",\"long\":\"-80.1918\",\"city_pop\":\"450000\",\"job\":\"Financial Analyst\",\"dob\":\"1989-04-03\"}', \"trans_date_trans_time\": \"2023-03-25 17:00:00\", \"trans_num\": str(uuid.uuid4().hex)[:12]}),\n",
        "    Row(**{\"Unnamed: 0\": \"dummy_12\", \"amt\": \"300.50\", \"category\": \"shopping_online\", \"cc_bic\": \"DUMMYBIC12\", \"cc_num\": \"9012345678901234\", \"is_fraud\": \"0\", \"merch_eff_time\": \"2023-03-26 10:00:00\", \"merch_last_update_time\": \"2023-03-26 10:30:00\", \"merch_lat\": \"38.9072\", \"merch_long\": \"-77.0369\", \"merch_zipcode\": \"20001\", \"merchant\": \"Dummy E-commerce L\", \"personal_detail\": '{\"person_name\":\"Jennifer,Davis,lllll\",\"gender\":\"F\",\"address\":\"{\\\\\"street\\\\\":\\\\\"1100 Dummy Rd\\\\\",\\\\\"city\\\\\":\\\\\"Washington\\\\\",\\\\\"state\\\\\":\\\\\"DC\\\\\",\\\\\"zip\\\\\":\\\\\"20001\\\\\"}\",\"lat\":\"38.9072\",\"long\":\"-77.0369\",\"city_pop\":\"700000\",\"job\":\"Politician\",\"dob\":\"1975-08-18\"}', \"trans_date_trans_time\": \"2023-03-26 11:00:00\", \"trans_num\": str(uuid.uuid4().hex)[:12]})\n",
        "]\n",
        "\n",
        "\n",
        "# Create the DataFrame\n",
        "df_dummy = spark.createDataFrame(dummy_data, dummy_schema)\n",
        "\n",
        "# Show the dummy data\n",
        "print(\"Dummy Data:\")\n",
        "df_dummy.show(truncate=False)"
      ],
      "id": "5128be5b",
      "execution_count": null,
      "outputs": [
        {
          "output_type": "stream",
          "name": "stdout",
          "text": [
            "Dummy Data:\n",
            "+----------+------+---------------+----------+----------------+--------+-------------------+----------------------+---------+----------+-------------+----------------------+------------------------------------------------------------------------------------------------------------------------------------------------------------------------------------------------------------------------------------------------------------+---------------------+------------+\n",
            "|Unnamed: 0|amt   |category       |cc_bic    |cc_num          |is_fraud|merch_eff_time     |merch_last_update_time|merch_lat|merch_long|merch_zipcode|merchant              |personal_detail                                                                                                                                                                                                                                             |trans_date_trans_time|trans_num   |\n",
            "+----------+------+---------------+----------+----------------+--------+-------------------+----------------------+---------+----------+-------------+----------------------+------------------------------------------------------------------------------------------------------------------------------------------------------------------------------------------------------------------------------------------------------------+---------------------+------------+\n",
            "|dummy_1   |10.50 |shopping_online|DUMMYBIC1 |1111222233334444|0       |2023-03-15 09:00:00|2023-03-15 09:30:00   |40.7128  |-74.0060  |10001        |DummyStore A          |{\"person_name\":\"John,Doe,aaaaa\",\"gender\":\"M\",\"address\":\"{\\\"street\\\":\\\"123 Dummy St\\\",\\\"city\\\":\\\"New York\\\",\\\"state\\\":\\\"NY\\\",\\\"zip\\\":\\\"10001\\\"}\",\"lat\":\"40.7128\",\"long\":\"-74.0060\",\"city_pop\":\"8000000\",\"job\":\"Engineer\",\"dob\":\"1990-01-01\"}                 |2023-03-15 10:00:00  |fd64eed92b6e|\n",
            "|dummy_2   |55.75 |food_dining    |DUMMYBIC2 |5555666677778888|1       |2023-03-16 14:00:00|2023-03-16 14:15:00   |34.0522  |-118.2437 |90012        |Dummy Restaurant B    |{\"person_name\":\"Jane,Smith,bbbbb\",\"gender\":\"F\",\"address\":\"{\\\"street\\\":\\\"456 Dummy Ave\\\",\\\"city\\\":\\\"Los Angeles\\\",\\\"state\\\":\\\"CA\\\",\\\"zip\\\":\\\"90012\\\"}\",\"lat\":\"34.0522\",\"long\":\"-118.2437\",\"city_pop\":\"4000000\",\"job\":\"Artist\",\"dob\":\"1995-05-10\"}            |2023-03-16 14:30:00  |711981b9b075|\n",
            "|dummy_3   |25.00 |travel         |DUMMYBIC3 |9999888877776666|0       |2023-03-17 08:00:00|2023-03-17 08:30:00   |48.8566  |2.3522    |75001        |Dummy Airlines C      |{\"person_name\":\"Peter,Jones,ccccc\",\"gender\":\"M\",\"address\":\"{\\\"street\\\":\\\"789 Dummy Rd\\\",\\\"city\\\":\\\"Paris\\\",\\\"state\\\":\\\"FR\\\",\\\"zip\\\":\\\"75001\\\"}\",\"lat\":\"48.8566\",\"long\":\"2.3522\",\"city_pop\":\"2000000\",\"job\":\"Scientist\",\"dob\":\"1985-11-20\"}                  |2023-03-17 09:00:00  |458278f57dff|\n",
            "|dummy_4   |150.75|electronics    |DUMMYBIC4 |1234567890123456|0       |2023-03-18 11:00:00|2023-03-18 11:15:00   |37.7749  |-122.4194 |94101        |Dummy Gadgets D       |{\"person_name\":\"Mary,Brown,ddddd\",\"gender\":\"F\",\"address\":\"{\\\"street\\\":\\\"101 Dummy Ave\\\",\\\"city\\\":\\\"San Francisco\\\",\\\"state\\\":\\\"CA\\\",\\\"zip\\\":\\\"94101\\\"}\",\"lat\":\"37.7749\",\"long\":\"-122.4194\",\"city_pop\":\"900000\",\"job\":\"Software Engineer\",\"dob\":\"1992-07-07\"}|2023-03-18 11:30:00  |a36f44068053|\n",
            "|dummy_5   |5.20  |gas_transport  |DUMMYBIC5 |2109876543210987|0       |2023-03-19 15:00:00|2023-03-19 15:30:00   |41.8781  |-87.6298  |60601        |Dummy Gas Station E   |{\"person_name\":\"Robert,White,eeeee\",\"gender\":\"M\",\"address\":\"{\\\"street\\\":\\\"246 Dummy Ln\\\",\\\"city\\\":\\\"Chicago\\\",\\\"state\\\":\\\"IL\\\",\\\"zip\\\":\\\"60601\\\"}\",\"lat\":\"41.8781\",\"long\":\"-87.6298\",\"city_pop\":\"2700000\",\"job\":\"Teacher\",\"dob\":\"1980-03-15\"}               |2023-03-19 16:00:00  |a8b759178867|\n",
            "|dummy_6   |88.99 |home           |DUMMYBIC6 |3456789012345678|0       |2023-03-20 08:00:00|2023-03-20 08:10:00   |29.7604  |-95.3698  |77001        |Dummy Home Goods F    |{\"person_name\":\"Linda,Green,fffff\",\"gender\":\"F\",\"address\":\"{\\\"street\\\":\\\"369 Dummy Ct\\\",\\\"city\\\":\\\"Houston\\\",\\\"state\\\":\\\"TX\\\",\\\"zip\\\":\\\"77001\\\"}\",\"lat\":\"29.7604\",\"long\":\"-95.3698\",\"city_pop\":\"2300000\",\"job\":\"Architect\",\"dob\":\"1998-09-25\"}              |2023-03-20 08:15:00  |34213f570c25|\n",
            "|dummy_7   |120.00|misc_pos       |DUMMYBIC7 |4321098765432109|1       |2023-03-21 13:00:00|2023-03-21 13:45:00   |33.4484  |-112.0740 |85001        |Dummy Store G         |{\"person_name\":\"James,Black,ggggg\",\"gender\":\"M\",\"address\":\"{\\\"street\\\":\\\"480 Dummy Way\\\",\\\"city\\\":\\\"Phoenix\\\",\\\"state\\\":\\\"AZ\\\",\\\"zip\\\":\\\"85001\\\"}\",\"lat\":\"33.4484\",\"long\":\"-112.0740\",\"city_pop\":\"1600000\",\"job\":\"Data Scientist\",\"dob\":\"1983-01-10\"}       |2023-03-21 14:00:00  |57f996985f95|\n",
            "|dummy_8   |15.50 |food_dining    |DUMMYBIC8 |5678901234567890|0       |2023-03-22 09:00:00|2023-03-22 09:45:00   |39.9526  |-75.1652  |19101        |Dummy Cafe H          |{\"person_name\":\"Barbara,White,hhhhh\",\"gender\":\"F\",\"address\":\"{\\\"street\\\":\\\"602 Dummy Blvd\\\",\\\"city\\\":\\\"Philadelphia\\\",\\\"state\\\":\\\"PA\\\",\\\"zip\\\":\\\"19101\\\"}\",\"lat\":\"39.9526\",\"long\":\"-75.1652\",\"city_pop\":\"1500000\",\"job\":\"Nurse\",\"dob\":\"1991-06-05\"}         |2023-03-22 10:00:00  |d6afbac95d42|\n",
            "|dummy_9   |220.00|shopping_net   |DUMMYBIC9 |6789012345678901|0       |2023-03-23 13:00:00|2023-03-23 13:30:00   |32.7157  |-117.1611 |92101        |Dummy Online Shop I   |{\"person_name\":\"Michael,Brown,iiiii\",\"gender\":\"M\",\"address\":\"{\\\"street\\\":\\\"723 Dummy Ct\\\",\\\"city\\\":\\\"San Diego\\\",\\\"state\\\":\\\"CA\\\",\\\"zip\\\":\\\"92101\\\"}\",\"lat\":\"32.7157\",\"long\":\"-117.1611\",\"city_pop\":\"1400000\",\"job\":\"Engineer\",\"dob\":\"1987-02-28\"}          |2023-03-23 13:45:00  |9bc5f59c0013|\n",
            "|dummy_10  |7.80  |personal_care  |DUMMYBIC10|7890123456789012|0       |2023-03-24 09:00:00|2023-03-24 09:15:00   |47.6062  |-122.3321 |98101        |Dummy Pharmacy J      |{\"person_name\":\"Elizabeth,Jones,jjjjj\",\"gender\":\"F\",\"address\":\"{\\\"street\\\":\\\"851 Dummy St\\\",\\\"city\\\":\\\"Seattle\\\",\\\"state\\\":\\\"WA\\\",\\\"zip\\\":\\\"98101\\\"}\",\"lat\":\"47.6062\",\"long\":\"-122.3321\",\"city_pop\":\"750000\",\"job\":\"Doctor\",\"dob\":\"1994-12-12\"}             |2023-03-24 09:30:00  |193348163e36|\n",
            "|dummy_11  |45.00 |misc_net       |DUMMYBIC11|8901234567890123|1       |2023-03-25 16:00:00|2023-03-25 16:30:00   |25.7617  |-80.1918  |33101        |Dummy Online Service K|{\"person_name\":\"David,Miller,kkkkk\",\"gender\":\"M\",\"address\":\"{\\\"street\\\":\\\"974 Dummy Ave\\\",\\\"city\\\":\\\"Miami\\\",\\\"state\\\":\\\"FL\\\",\\\"zip\\\":\\\"33101\\\"}\",\"lat\":\"25.7617\",\"long\":\"-80.1918\",\"city_pop\":\"450000\",\"job\":\"Financial Analyst\",\"dob\":\"1989-04-03\"}       |2023-03-25 17:00:00  |15a84e38327c|\n",
            "|dummy_12  |300.50|shopping_online|DUMMYBIC12|9012345678901234|0       |2023-03-26 10:00:00|2023-03-26 10:30:00   |38.9072  |-77.0369  |20001        |Dummy E-commerce L    |{\"person_name\":\"Jennifer,Davis,lllll\",\"gender\":\"F\",\"address\":\"{\\\"street\\\":\\\"1100 Dummy Rd\\\",\\\"city\\\":\\\"Washington\\\",\\\"state\\\":\\\"DC\\\",\\\"zip\\\":\\\"20001\\\"}\",\"lat\":\"38.9072\",\"long\":\"-77.0369\",\"city_pop\":\"700000\",\"job\":\"Politician\",\"dob\":\"1975-08-18\"}       |2023-03-26 11:00:00  |1d48c8149ead|\n",
            "+----------+------+---------------+----------+----------------+--------+-------------------+----------------------+---------+----------+-------------+----------------------+------------------------------------------------------------------------------------------------------------------------------------------------------------------------------------------------------------------------------------------------------------+---------------------+------------+\n",
            "\n"
          ]
        }
      ]
    },
    {
      "cell_type": "markdown",
      "source": [
        "#  Additional Step: Merge data with source data\n",
        "the title as it says. without jeopordising the JSON file a union was use in order to merge the dummy data with the original data."
      ],
      "metadata": {
        "id": "RCg-RCsFcmnc"
      },
      "id": "RCg-RCsFcmnc"
    },
    {
      "cell_type": "code",
      "metadata": {
        "colab": {
          "base_uri": "https://localhost:8080/"
        },
        "id": "18b85115",
        "outputId": "bab66bcd-ca25-4f86-b928-cf72064b0e9b"
      },
      "source": [
        "# Combine the original data and the dummy data\n",
        "df_combined = df_raw.union(df_dummy)\n",
        "\n",
        "# Show the first few rows of the combined DataFrame\n",
        "print(\"Combined Data:\")\n",
        "df_combined.show(truncate=False)\n",
        "\n",
        "# Print the total number of rows in the combined DataFrame\n",
        "print(\"Total rows in combined data:\", df_combined.count())"
      ],
      "id": "18b85115",
      "execution_count": null,
      "outputs": [
        {
          "output_type": "stream",
          "name": "stdout",
          "text": [
            "Combined Data:\n",
            "+----------+------+---------------+-----------+----------------+--------+-------------------+----------------------+---------+----------+-------------+--------------------------+-----------------------------------------------------------------------------------------------------------------------------------------------------------------------------------------------------------------------------------------------------------------------+---------------------+--------------------------------+\n",
            "|Unnamed: 0|amt   |category       |cc_bic     |cc_num          |is_fraud|merch_eff_time     |merch_last_update_time|merch_lat|merch_long|merch_zipcode|merchant                  |personal_detail                                                                                                                                                                                                                                                        |trans_date_trans_time|trans_num                       |\n",
            "+----------+------+---------------+-----------+----------------+--------+-------------------+----------------------+---------+----------+-------------+--------------------------+-----------------------------------------------------------------------------------------------------------------------------------------------------------------------------------------------------------------------------------------------------------------------+---------------------+--------------------------------+\n",
            "|0         |4.97  |misc_net       |CITIUS33CHI|2703186189652095|0       |1325376018798532   |1325376018666         |36.011293|-82.048315|28705        |fraud_Rippin, Kub and Mann|{\"person_name\":\"Jennifer,Banks,eeeee\",\"gender\":\"F\",\"address\":\"{\\\"street\\\":\\\"561 Perry Cove\\\",\\\"city\\\":\\\"Moravian Falls\\\",\\\"state\\\":\\\"NC\\\",\\\"zip\\\":\\\"28654\\\"}\",\"lat\":\"36.0788\",\"long\":\"-81.1781\",\"city_pop\":\"3495\",\"job\":\"Psychologist, counselling\",\"dob\":\"1988-03-09\"}|2019-01-01 00:00:18  |0b242abb623afc578575680df30655b9|\n",
            "|dummy_1   |10.50 |shopping_online|DUMMYBIC1  |1111222233334444|0       |2023-03-15 09:00:00|2023-03-15 09:30:00   |40.7128  |-74.0060  |10001        |DummyStore A              |{\"person_name\":\"John,Doe,aaaaa\",\"gender\":\"M\",\"address\":\"{\\\"street\\\":\\\"123 Dummy St\\\",\\\"city\\\":\\\"New York\\\",\\\"state\\\":\\\"NY\\\",\\\"zip\\\":\\\"10001\\\"}\",\"lat\":\"40.7128\",\"long\":\"-74.0060\",\"city_pop\":\"8000000\",\"job\":\"Engineer\",\"dob\":\"1990-01-01\"}                            |2023-03-15 10:00:00  |fd64eed92b6e                    |\n",
            "|dummy_2   |55.75 |food_dining    |DUMMYBIC2  |5555666677778888|1       |2023-03-16 14:00:00|2023-03-16 14:15:00   |34.0522  |-118.2437 |90012        |Dummy Restaurant B        |{\"person_name\":\"Jane,Smith,bbbbb\",\"gender\":\"F\",\"address\":\"{\\\"street\\\":\\\"456 Dummy Ave\\\",\\\"city\\\":\\\"Los Angeles\\\",\\\"state\\\":\\\"CA\\\",\\\"zip\\\":\\\"90012\\\"}\",\"lat\":\"34.0522\",\"long\":\"-118.2437\",\"city_pop\":\"4000000\",\"job\":\"Artist\",\"dob\":\"1995-05-10\"}                       |2023-03-16 14:30:00  |711981b9b075                    |\n",
            "|dummy_3   |25.00 |travel         |DUMMYBIC3  |9999888877776666|0       |2023-03-17 08:00:00|2023-03-17 08:30:00   |48.8566  |2.3522    |75001        |Dummy Airlines C          |{\"person_name\":\"Peter,Jones,ccccc\",\"gender\":\"M\",\"address\":\"{\\\"street\\\":\\\"789 Dummy Rd\\\",\\\"city\\\":\\\"Paris\\\",\\\"state\\\":\\\"FR\\\",\\\"zip\\\":\\\"75001\\\"}\",\"lat\":\"48.8566\",\"long\":\"2.3522\",\"city_pop\":\"2000000\",\"job\":\"Scientist\",\"dob\":\"1985-11-20\"}                             |2023-03-17 09:00:00  |458278f57dff                    |\n",
            "|dummy_4   |150.75|electronics    |DUMMYBIC4  |1234567890123456|0       |2023-03-18 11:00:00|2023-03-18 11:15:00   |37.7749  |-122.4194 |94101        |Dummy Gadgets D           |{\"person_name\":\"Mary,Brown,ddddd\",\"gender\":\"F\",\"address\":\"{\\\"street\\\":\\\"101 Dummy Ave\\\",\\\"city\\\":\\\"San Francisco\\\",\\\"state\\\":\\\"CA\\\",\\\"zip\\\":\\\"94101\\\"}\",\"lat\":\"37.7749\",\"long\":\"-122.4194\",\"city_pop\":\"900000\",\"job\":\"Software Engineer\",\"dob\":\"1992-07-07\"}           |2023-03-18 11:30:00  |a36f44068053                    |\n",
            "|dummy_5   |5.20  |gas_transport  |DUMMYBIC5  |2109876543210987|0       |2023-03-19 15:00:00|2023-03-19 15:30:00   |41.8781  |-87.6298  |60601        |Dummy Gas Station E       |{\"person_name\":\"Robert,White,eeeee\",\"gender\":\"M\",\"address\":\"{\\\"street\\\":\\\"246 Dummy Ln\\\",\\\"city\\\":\\\"Chicago\\\",\\\"state\\\":\\\"IL\\\",\\\"zip\\\":\\\"60601\\\"}\",\"lat\":\"41.8781\",\"long\":\"-87.6298\",\"city_pop\":\"2700000\",\"job\":\"Teacher\",\"dob\":\"1980-03-15\"}                          |2023-03-19 16:00:00  |a8b759178867                    |\n",
            "|dummy_6   |88.99 |home           |DUMMYBIC6  |3456789012345678|0       |2023-03-20 08:00:00|2023-03-20 08:10:00   |29.7604  |-95.3698  |77001        |Dummy Home Goods F        |{\"person_name\":\"Linda,Green,fffff\",\"gender\":\"F\",\"address\":\"{\\\"street\\\":\\\"369 Dummy Ct\\\",\\\"city\\\":\\\"Houston\\\",\\\"state\\\":\\\"TX\\\",\\\"zip\\\":\\\"77001\\\"}\",\"lat\":\"29.7604\",\"long\":\"-95.3698\",\"city_pop\":\"2300000\",\"job\":\"Architect\",\"dob\":\"1998-09-25\"}                         |2023-03-20 08:15:00  |34213f570c25                    |\n",
            "|dummy_7   |120.00|misc_pos       |DUMMYBIC7  |4321098765432109|1       |2023-03-21 13:00:00|2023-03-21 13:45:00   |33.4484  |-112.0740 |85001        |Dummy Store G             |{\"person_name\":\"James,Black,ggggg\",\"gender\":\"M\",\"address\":\"{\\\"street\\\":\\\"480 Dummy Way\\\",\\\"city\\\":\\\"Phoenix\\\",\\\"state\\\":\\\"AZ\\\",\\\"zip\\\":\\\"85001\\\"}\",\"lat\":\"33.4484\",\"long\":\"-112.0740\",\"city_pop\":\"1600000\",\"job\":\"Data Scientist\",\"dob\":\"1983-01-10\"}                  |2023-03-21 14:00:00  |57f996985f95                    |\n",
            "|dummy_8   |15.50 |food_dining    |DUMMYBIC8  |5678901234567890|0       |2023-03-22 09:00:00|2023-03-22 09:45:00   |39.9526  |-75.1652  |19101        |Dummy Cafe H              |{\"person_name\":\"Barbara,White,hhhhh\",\"gender\":\"F\",\"address\":\"{\\\"street\\\":\\\"602 Dummy Blvd\\\",\\\"city\\\":\\\"Philadelphia\\\",\\\"state\\\":\\\"PA\\\",\\\"zip\\\":\\\"19101\\\"}\",\"lat\":\"39.9526\",\"long\":\"-75.1652\",\"city_pop\":\"1500000\",\"job\":\"Nurse\",\"dob\":\"1991-06-05\"}                    |2023-03-22 10:00:00  |d6afbac95d42                    |\n",
            "|dummy_9   |220.00|shopping_net   |DUMMYBIC9  |6789012345678901|0       |2023-03-23 13:00:00|2023-03-23 13:30:00   |32.7157  |-117.1611 |92101        |Dummy Online Shop I       |{\"person_name\":\"Michael,Brown,iiiii\",\"gender\":\"M\",\"address\":\"{\\\"street\\\":\\\"723 Dummy Ct\\\",\\\"city\\\":\\\"San Diego\\\",\\\"state\\\":\\\"CA\\\",\\\"zip\\\":\\\"92101\\\"}\",\"lat\":\"32.7157\",\"long\":\"-117.1611\",\"city_pop\":\"1400000\",\"job\":\"Engineer\",\"dob\":\"1987-02-28\"}                     |2023-03-23 13:45:00  |9bc5f59c0013                    |\n",
            "|dummy_10  |7.80  |personal_care  |DUMMYBIC10 |7890123456789012|0       |2023-03-24 09:00:00|2023-03-24 09:15:00   |47.6062  |-122.3321 |98101        |Dummy Pharmacy J          |{\"person_name\":\"Elizabeth,Jones,jjjjj\",\"gender\":\"F\",\"address\":\"{\\\"street\\\":\\\"851 Dummy St\\\",\\\"city\\\":\\\"Seattle\\\",\\\"state\\\":\\\"WA\\\",\\\"zip\\\":\\\"98101\\\"}\",\"lat\":\"47.6062\",\"long\":\"-122.3321\",\"city_pop\":\"750000\",\"job\":\"Doctor\",\"dob\":\"1994-12-12\"}                        |2023-03-24 09:30:00  |193348163e36                    |\n",
            "|dummy_11  |45.00 |misc_net       |DUMMYBIC11 |8901234567890123|1       |2023-03-25 16:00:00|2023-03-25 16:30:00   |25.7617  |-80.1918  |33101        |Dummy Online Service K    |{\"person_name\":\"David,Miller,kkkkk\",\"gender\":\"M\",\"address\":\"{\\\"street\\\":\\\"974 Dummy Ave\\\",\\\"city\\\":\\\"Miami\\\",\\\"state\\\":\\\"FL\\\",\\\"zip\\\":\\\"33101\\\"}\",\"lat\":\"25.7617\",\"long\":\"-80.1918\",\"city_pop\":\"450000\",\"job\":\"Financial Analyst\",\"dob\":\"1989-04-03\"}                  |2023-03-25 17:00:00  |15a84e38327c                    |\n",
            "|dummy_12  |300.50|shopping_online|DUMMYBIC12 |9012345678901234|0       |2023-03-26 10:00:00|2023-03-26 10:30:00   |38.9072  |-77.0369  |20001        |Dummy E-commerce L        |{\"person_name\":\"Jennifer,Davis,lllll\",\"gender\":\"F\",\"address\":\"{\\\"street\\\":\\\"1100 Dummy Rd\\\",\\\"city\\\":\\\"Washington\\\",\\\"state\\\":\\\"DC\\\",\\\"zip\\\":\\\"20001\\\"}\",\"lat\":\"38.9072\",\"long\":\"-77.0369\",\"city_pop\":\"700000\",\"job\":\"Politician\",\"dob\":\"1975-08-18\"}                  |2023-03-26 11:00:00  |1d48c8149ead                    |\n",
            "+----------+------+---------------+-----------+----------------+--------+-------------------+----------------------+---------+----------+-------------+--------------------------+-----------------------------------------------------------------------------------------------------------------------------------------------------------------------------------------------------------------------------------------------------------------------+---------------------+--------------------------------+\n",
            "\n",
            "Total rows in combined data: 13\n"
          ]
        }
      ]
    },
    {
      "cell_type": "markdown",
      "id": "d890428e",
      "metadata": {
        "id": "d890428e"
      },
      "source": [
        "## Step 2: Flatten the JSON Structure"
      ]
    },
    {
      "cell_type": "code",
      "execution_count": null,
      "id": "7a5832b8",
      "metadata": {
        "colab": {
          "base_uri": "https://localhost:8080/"
        },
        "id": "7a5832b8",
        "outputId": "29623163-c8bd-42ac-f665-03078c754f13"
      },
      "outputs": [
        {
          "output_type": "stream",
          "name": "stdout",
          "text": [
            "+----------+---------------------+----------------+--------------------------+---------------+------+------+------------+-------------+--------+-------------------------+----------+--------------------------------+---------+----------+--------+-------------+----------------------+-------------------+-----------+---------------------+------------------------------------------------------------------------------+\n",
            "|Unnamed: 0|trans_date_trans_time|cc_num          |merchant                  |category       |amt   |gender|personal_lat|personal_long|city_pop|job                      |dob       |trans_num                       |merch_lat|merch_long|is_fraud|merch_zipcode|merch_last_update_time|merch_eff_time     |cc_bic     |person_name          |address                                                                       |\n",
            "+----------+---------------------+----------------+--------------------------+---------------+------+------+------------+-------------+--------+-------------------------+----------+--------------------------------+---------+----------+--------+-------------+----------------------+-------------------+-----------+---------------------+------------------------------------------------------------------------------+\n",
            "|0         |2019-01-01 00:00:18  |2703186189652095|fraud_Rippin, Kub and Mann|misc_net       |4.97  |F     |36.0788     |-81.1781     |3495    |Psychologist, counselling|1988-03-09|0b242abb623afc578575680df30655b9|36.011293|-82.048315|0       |28705        |1325376018666         |1325376018798532   |CITIUS33CHI|Jennifer,Banks,eeeee |{\"street\":\"561 Perry Cove\",\"city\":\"Moravian Falls\",\"state\":\"NC\",\"zip\":\"28654\"}|\n",
            "|dummy_1   |2023-03-15 10:00:00  |1111222233334444|DummyStore A              |shopping_online|10.50 |M     |40.7128     |-74.0060     |8000000 |Engineer                 |1990-01-01|fd64eed92b6e                    |40.7128  |-74.0060  |0       |10001        |2023-03-15 09:30:00   |2023-03-15 09:00:00|DUMMYBIC1  |John,Doe,aaaaa       |{\"street\":\"123 Dummy St\",\"city\":\"New York\",\"state\":\"NY\",\"zip\":\"10001\"}        |\n",
            "|dummy_2   |2023-03-16 14:30:00  |5555666677778888|Dummy Restaurant B        |food_dining    |55.75 |F     |34.0522     |-118.2437    |4000000 |Artist                   |1995-05-10|711981b9b075                    |34.0522  |-118.2437 |1       |90012        |2023-03-16 14:15:00   |2023-03-16 14:00:00|DUMMYBIC2  |Jane,Smith,bbbbb     |{\"street\":\"456 Dummy Ave\",\"city\":\"Los Angeles\",\"state\":\"CA\",\"zip\":\"90012\"}    |\n",
            "|dummy_3   |2023-03-17 09:00:00  |9999888877776666|Dummy Airlines C          |travel         |25.00 |M     |48.8566     |2.3522       |2000000 |Scientist                |1985-11-20|458278f57dff                    |48.8566  |2.3522    |0       |75001        |2023-03-17 08:30:00   |2023-03-17 08:00:00|DUMMYBIC3  |Peter,Jones,ccccc    |{\"street\":\"789 Dummy Rd\",\"city\":\"Paris\",\"state\":\"FR\",\"zip\":\"75001\"}           |\n",
            "|dummy_4   |2023-03-18 11:30:00  |1234567890123456|Dummy Gadgets D           |electronics    |150.75|F     |37.7749     |-122.4194    |900000  |Software Engineer        |1992-07-07|a36f44068053                    |37.7749  |-122.4194 |0       |94101        |2023-03-18 11:15:00   |2023-03-18 11:00:00|DUMMYBIC4  |Mary,Brown,ddddd     |{\"street\":\"101 Dummy Ave\",\"city\":\"San Francisco\",\"state\":\"CA\",\"zip\":\"94101\"}  |\n",
            "|dummy_5   |2023-03-19 16:00:00  |2109876543210987|Dummy Gas Station E       |gas_transport  |5.20  |M     |41.8781     |-87.6298     |2700000 |Teacher                  |1980-03-15|a8b759178867                    |41.8781  |-87.6298  |0       |60601        |2023-03-19 15:30:00   |2023-03-19 15:00:00|DUMMYBIC5  |Robert,White,eeeee   |{\"street\":\"246 Dummy Ln\",\"city\":\"Chicago\",\"state\":\"IL\",\"zip\":\"60601\"}         |\n",
            "|dummy_6   |2023-03-20 08:15:00  |3456789012345678|Dummy Home Goods F        |home           |88.99 |F     |29.7604     |-95.3698     |2300000 |Architect                |1998-09-25|34213f570c25                    |29.7604  |-95.3698  |0       |77001        |2023-03-20 08:10:00   |2023-03-20 08:00:00|DUMMYBIC6  |Linda,Green,fffff    |{\"street\":\"369 Dummy Ct\",\"city\":\"Houston\",\"state\":\"TX\",\"zip\":\"77001\"}         |\n",
            "|dummy_7   |2023-03-21 14:00:00  |4321098765432109|Dummy Store G             |misc_pos       |120.00|M     |33.4484     |-112.0740    |1600000 |Data Scientist           |1983-01-10|57f996985f95                    |33.4484  |-112.0740 |1       |85001        |2023-03-21 13:45:00   |2023-03-21 13:00:00|DUMMYBIC7  |James,Black,ggggg    |{\"street\":\"480 Dummy Way\",\"city\":\"Phoenix\",\"state\":\"AZ\",\"zip\":\"85001\"}        |\n",
            "|dummy_8   |2023-03-22 10:00:00  |5678901234567890|Dummy Cafe H              |food_dining    |15.50 |F     |39.9526     |-75.1652     |1500000 |Nurse                    |1991-06-05|d6afbac95d42                    |39.9526  |-75.1652  |0       |19101        |2023-03-22 09:45:00   |2023-03-22 09:00:00|DUMMYBIC8  |Barbara,White,hhhhh  |{\"street\":\"602 Dummy Blvd\",\"city\":\"Philadelphia\",\"state\":\"PA\",\"zip\":\"19101\"}  |\n",
            "|dummy_9   |2023-03-23 13:45:00  |6789012345678901|Dummy Online Shop I       |shopping_net   |220.00|M     |32.7157     |-117.1611    |1400000 |Engineer                 |1987-02-28|9bc5f59c0013                    |32.7157  |-117.1611 |0       |92101        |2023-03-23 13:30:00   |2023-03-23 13:00:00|DUMMYBIC9  |Michael,Brown,iiiii  |{\"street\":\"723 Dummy Ct\",\"city\":\"San Diego\",\"state\":\"CA\",\"zip\":\"92101\"}       |\n",
            "|dummy_10  |2023-03-24 09:30:00  |7890123456789012|Dummy Pharmacy J          |personal_care  |7.80  |F     |47.6062     |-122.3321    |750000  |Doctor                   |1994-12-12|193348163e36                    |47.6062  |-122.3321 |0       |98101        |2023-03-24 09:15:00   |2023-03-24 09:00:00|DUMMYBIC10 |Elizabeth,Jones,jjjjj|{\"street\":\"851 Dummy St\",\"city\":\"Seattle\",\"state\":\"WA\",\"zip\":\"98101\"}         |\n",
            "|dummy_11  |2023-03-25 17:00:00  |8901234567890123|Dummy Online Service K    |misc_net       |45.00 |M     |25.7617     |-80.1918     |450000  |Financial Analyst        |1989-04-03|15a84e38327c                    |25.7617  |-80.1918  |1       |33101        |2023-03-25 16:30:00   |2023-03-25 16:00:00|DUMMYBIC11 |David,Miller,kkkkk   |{\"street\":\"974 Dummy Ave\",\"city\":\"Miami\",\"state\":\"FL\",\"zip\":\"33101\"}          |\n",
            "|dummy_12  |2023-03-26 11:00:00  |9012345678901234|Dummy E-commerce L        |shopping_online|300.50|F     |38.9072     |-77.0369     |700000  |Politician               |1975-08-18|1d48c8149ead                    |38.9072  |-77.0369  |0       |20001        |2023-03-26 10:30:00   |2023-03-26 10:00:00|DUMMYBIC12 |Jennifer,Davis,lllll |{\"street\":\"1100 Dummy Rd\",\"city\":\"Washington\",\"state\":\"DC\",\"zip\":\"20001\"}     |\n",
            "+----------+---------------------+----------------+--------------------------+---------------+------+------+------------+-------------+--------+-------------------------+----------+--------------------------------+---------+----------+--------+-------------+----------------------+-------------------+-----------+---------------------+------------------------------------------------------------------------------+\n",
            "\n"
          ]
        }
      ],
      "source": [
        "# Some fields may be nested; adjust this based on actual data\n",
        "from pyspark.sql.functions import from_json\n",
        "\n",
        "# Define the schema for the personal_detail JSON string\n",
        "personal_detail_schema = StructType([\n",
        "    StructField(\"person_name\", StringType(), True),\n",
        "    StructField(\"gender\", StringType(), True),\n",
        "    StructField(\"address\", StringType(), True), # Address is also a JSON string within personal_detail\n",
        "    StructField(\"lat\", StringType(), True),\n",
        "    StructField(\"long\", StringType(), True),\n",
        "    StructField(\"city_pop\", StringType(), True),\n",
        "    StructField(\"job\", StringType(), True),\n",
        "    StructField(\"dob\", StringType(), True)\n",
        "])\n",
        "\n",
        "# Parse the personal_detail column\n",
        "df_parsed = df_combined.withColumn(\"personal_detail_parsed\", from_json(col(\"personal_detail\"), personal_detail_schema))\n",
        "\n",
        "# Select the flattened columns, including the parsed personal details\n",
        "df_flat = df_parsed.selectExpr(\n",
        "    \"`Unnamed: 0`\", \"trans_date_trans_time\", \"cc_num\", \"merchant\", \"category\",\n",
        "    \"amt\", \"personal_detail_parsed.gender\",\n",
        "    \"personal_detail_parsed.lat as personal_lat\", # Renaming to avoid conflict with merch_lat\n",
        "    \"personal_detail_parsed.long as personal_long\", # Renaming to avoid conflict with merch_long\n",
        "    \"personal_detail_parsed.city_pop\", \"personal_detail_parsed.job\", \"personal_detail_parsed.dob\",\n",
        "    \"trans_num\", \"merch_lat\", \"merch_long\",\n",
        "    \"is_fraud\", \"merch_zipcode\", \"merch_last_update_time\", \"merch_eff_time\",\n",
        "    \"cc_bic\", \"personal_detail_parsed.person_name\",\n",
        "    \"personal_detail_parsed.address\" # Keep address as string for now, will parse in the next step if needed\n",
        ")\n",
        "\n",
        "\n",
        "df_flat.show(truncate=False)"
      ]
    },
    {
      "cell_type": "markdown",
      "id": "32493c66",
      "metadata": {
        "id": "32493c66"
      },
      "source": [
        "## Step 3: Extract First and Last Name from `person_name`"
      ]
    },
    {
      "cell_type": "code",
      "execution_count": null,
      "id": "6d6998db",
      "metadata": {
        "colab": {
          "base_uri": "https://localhost:8080/"
        },
        "id": "6d6998db",
        "outputId": "a8c00a8f-7099-4ed5-fcd6-65b5fcb2e82b"
      },
      "outputs": [
        {
          "output_type": "stream",
          "name": "stdout",
          "text": [
            "+---------+------+\n",
            "|    first|  last|\n",
            "+---------+------+\n",
            "| Jennifer| Banks|\n",
            "|     John|   Doe|\n",
            "|     Jane| Smith|\n",
            "|    Peter| Jones|\n",
            "|     Mary| Brown|\n",
            "|   Robert| White|\n",
            "|    Linda| Green|\n",
            "|    James| Black|\n",
            "|  Barbara| White|\n",
            "|  Michael| Brown|\n",
            "|Elizabeth| Jones|\n",
            "|    David|Miller|\n",
            "| Jennifer| Davis|\n",
            "+---------+------+\n",
            "\n"
          ]
        }
      ],
      "source": [
        "df_named = df_flat.withColumn(\"first\", split(\"person_name\", \",\\s*\").getItem(0)) \\\n",
        "                        .withColumn(\"last\", split(\"person_name\", \",\\s*\").getItem(1)) \\\n",
        "                        .drop(\"person_name\")\n",
        "\n",
        "df_named.select(\"first\", \"last\").show()\n"
      ]
    },
    {
      "cell_type": "markdown",
      "id": "ec07564e",
      "metadata": {
        "id": "ec07564e"
      },
      "source": [
        "## Step 4: Convert Timestamps to UTC+8"
      ]
    },
    {
      "cell_type": "code",
      "execution_count": 96,
      "id": "c12d6860",
      "metadata": {
        "colab": {
          "base_uri": "https://localhost:8080/"
        },
        "id": "c12d6860",
        "outputId": "1576d82b-cd4b-4c26-e093-b6bc15c70015"
      },
      "outputs": [
        {
          "output_type": "stream",
          "name": "stdout",
          "text": [
            "+---------------------+----------------------+--------------+\n",
            "|trans_date_trans_time|merch_last_update_time|merch_eff_time|\n",
            "+---------------------+----------------------+--------------+\n",
            "|2019-01-05 08:00:18  |NULL                  |NULL          |\n",
            "|2023-03-19 18:00:00  |NULL                  |NULL          |\n",
            "|2023-03-20 22:30:00  |NULL                  |NULL          |\n",
            "|2023-03-21 17:00:00  |NULL                  |NULL          |\n",
            "|2023-03-22 19:30:00  |NULL                  |NULL          |\n",
            "|2023-03-24 00:00:00  |NULL                  |NULL          |\n",
            "|2023-03-24 16:15:00  |NULL                  |NULL          |\n",
            "|2023-03-25 22:00:00  |NULL                  |NULL          |\n",
            "|2023-03-26 18:00:00  |NULL                  |NULL          |\n",
            "|2023-03-27 21:45:00  |NULL                  |NULL          |\n",
            "|2023-03-28 17:30:00  |NULL                  |NULL          |\n",
            "|2023-03-30 01:00:00  |NULL                  |NULL          |\n",
            "|2023-03-30 19:00:00  |NULL                  |NULL          |\n",
            "+---------------------+----------------------+--------------+\n",
            "\n"
          ]
        }
      ],
      "source": [
        "from pyspark.sql.functions import col, to_timestamp, from_utc_timestamp, from_unixtime, expr, date_format, coalesce, when, trim\n",
        "from pyspark.sql.types import DoubleType, DecimalType\n",
        "\n",
        "# Assuming df_named is the DataFrame from the previous steps\n",
        "\n",
        "# Convert trans_date_trans_time to UTC+8 timestamp\n",
        "df_named = df_named.withColumn(\"trans_date_trans_time\", from_utc_timestamp(to_timestamp(col(\"trans_date_trans_time\")), \"Asia/Singapore\"))\n",
        "\n",
        "# Function to convert timestamps that might be in microseconds (numeric string) or date-time strings\n",
        "def convert_merch_timestamp(col_name):\n",
        "    col_trimmed = trim(col(col_name))\n",
        "\n",
        "    # Check if the trimmed value can be cast to a numeric type (Decimal)\n",
        "    # This helps distinguish between numeric timestamps and date-time strings\n",
        "    is_numeric = when(col_trimmed.cast(DecimalType(20, 6)).isNotNull(), True).otherwise(False)\n",
        "\n",
        "    # Attempt numeric conversion if it's numeric-like\n",
        "    timestamp_from_numeric = when(is_numeric, from_unixtime(col_trimmed.cast(DecimalType(20, 6)) / 1000000)).otherwise(None)\n",
        "\n",
        "    # Attempt string conversion if it's not numeric-like\n",
        "    timestamp_from_string = when(~is_numeric, to_timestamp(col_trimmed, \"yyyy-MM-dd HH:mm:ss\")).otherwise(None)\n",
        "\n",
        "    # Coalesce will take the first non-null timestamp (numeric or string)\n",
        "    # Then convert to UTC+8 and format\n",
        "    return date_format(from_utc_timestamp(coalesce(timestamp_from_numeric, timestamp_from_string), \"Asia/Singapore\"), \"yyyy-MM-dd HH:mm:ss\")\n",
        "\n",
        "\n",
        "# Apply the conversion function to merch_last_update_time and merch_eff_time\n",
        "df_named = df_named.withColumn(\"merch_last_update_time\", convert_merch_timestamp(\"merch_last_update_time\"))\n",
        "df_named = df_named.withColumn(\"merch_eff_time\", convert_merch_timestamp(\"merch_eff_time\"))\n",
        "\n",
        "\n",
        "df_named.select(\"trans_date_trans_time\", \"merch_last_update_time\", \"merch_eff_time\").show(truncate=False)"
      ]
    },
    {
      "cell_type": "markdown",
      "id": "f5abd3e2",
      "metadata": {
        "id": "f5abd3e2"
      },
      "source": [
        "## Step 5: Mask Personally Identifiable Information (PII)"
      ]
    },
    {
      "cell_type": "code",
      "execution_count": 93,
      "id": "58ea1dca",
      "metadata": {
        "colab": {
          "base_uri": "https://localhost:8080/"
        },
        "id": "58ea1dca",
        "outputId": "1e41b15f-1746-49e0-80e8-3351f623511a"
      },
      "outputs": [
        {
          "output_type": "stream",
          "name": "stdout",
          "text": [
            "+----------------+--------------+\n",
            "|cc_num          |street        |\n",
            "+----------------+--------------+\n",
            "|2703************|*** Perry Cove|\n",
            "|1111************|*** Dummy St  |\n",
            "|5555************|*** Dummy Ave |\n",
            "|9999************|*** Dummy Rd  |\n",
            "|1234************|*** Dummy Ave |\n",
            "+----------------+--------------+\n",
            "only showing top 5 rows\n",
            "\n"
          ]
        }
      ],
      "source": [
        "from pyspark.sql.functions import from_json, col, regexp_replace\n",
        "from pyspark.sql.types import StructType, StructField, StringType\n",
        "\n",
        "# Define the schema for the address JSON string\n",
        "address_schema = StructType([\n",
        "    StructField(\"street\", StringType(), True),\n",
        "    StructField(\"city\", StringType(), True),\n",
        "    StructField(\"state\", StringType(), True),\n",
        "    StructField(\"zip\", StringType(), True)\n",
        "])\n",
        "\n",
        "# Parse the address column\n",
        "df_with_parsed_address = df_named.withColumn(\"address_parsed\", from_json(col(\"address\"), address_schema))\n",
        "\n",
        "# Apply PII masking and drop trans_num\n",
        "df_clean = df_with_parsed_address.withColumn(\"cc_num\", expr(\"concat(substr(cc_num, 1, 4), '************')\")) \\\n",
        "                                 .withColumn(\"street\", regexp_replace(col(\"address_parsed.street\"), \"[0-9]\", \"*\")) \\\n",
        "                                 .drop(\"trans_num\")\n",
        "\n",
        "\n",
        "df_clean.select(\"cc_num\", \"street\").show(5,truncate=False)"
      ]
    },
    {
      "cell_type": "markdown",
      "id": "48e5ddf5",
      "metadata": {
        "id": "48e5ddf5"
      },
      "source": [
        "## Step 6: Data Quality - Handle Nulls or Dirty Data"
      ]
    },
    {
      "cell_type": "code",
      "execution_count": null,
      "id": "66c00f4b",
      "metadata": {
        "colab": {
          "base_uri": "https://localhost:8080/"
        },
        "id": "66c00f4b",
        "outputId": "c60c1e92-4ab3-4a16-93ac-d8570c32c2b6"
      },
      "outputs": [
        {
          "output_type": "stream",
          "name": "stdout",
          "text": [
            "Remaining rows: 13\n"
          ]
        }
      ],
      "source": [
        "df_clean = df_clean.dropna(subset=[\"trans_date_trans_time\", \"cc_num\", \"amt\"])\n",
        "print(\"Remaining rows:\", df_clean.count())\n"
      ]
    },
    {
      "cell_type": "markdown",
      "source": [
        "# Additional Step: Group total spending based on gender\n"
      ],
      "metadata": {
        "id": "z9U_4MIjqhi1"
      },
      "id": "z9U_4MIjqhi1"
    },
    {
      "cell_type": "code",
      "metadata": {
        "colab": {
          "base_uri": "https://localhost:8080/"
        },
        "id": "eb54c91e",
        "outputId": "ec3768b9-2887-43c4-e22e-f53d3dc2d459"
      },
      "source": [
        "from pyspark.sql.functions import sum as spark_sum\n",
        "\n",
        "# Group by gender and sum the amount using agg\n",
        "gender_spending = df_clean.groupBy(\"gender\").agg(spark_sum(col(\"amt\").cast(\"double\")).alias(\"total_spending\"))\n",
        "\n",
        "# Show the results\n",
        "gender_spending.show()"
      ],
      "id": "eb54c91e",
      "execution_count": null,
      "outputs": [
        {
          "output_type": "stream",
          "name": "stdout",
          "text": [
            "+------+--------------+\n",
            "|gender|total_spending|\n",
            "+------+--------------+\n",
            "|     F|        624.26|\n",
            "|     M|         425.7|\n",
            "+------+--------------+\n",
            "\n"
          ]
        }
      ]
    },
    {
      "cell_type": "markdown",
      "source": [
        "# Additional Step: Show Fraud Count"
      ],
      "metadata": {
        "id": "9rNs6i94q0ba"
      },
      "id": "9rNs6i94q0ba"
    },
    {
      "cell_type": "code",
      "metadata": {
        "colab": {
          "base_uri": "https://localhost:8080/"
        },
        "id": "0e0e6f95",
        "outputId": "094c2f21-ea5d-47dc-ef0b-e947378fafa0"
      },
      "source": [
        "# Count the number of transactions for each value of is_fraud\n",
        "fraud_counts = df_clean.groupBy(\"is_fraud\").count()\n",
        "\n",
        "# Show the results\n",
        "fraud_counts.show()"
      ],
      "id": "0e0e6f95",
      "execution_count": null,
      "outputs": [
        {
          "output_type": "stream",
          "name": "stdout",
          "text": [
            "+--------+-----+\n",
            "|is_fraud|count|\n",
            "+--------+-----+\n",
            "|       0|   10|\n",
            "|       1|    3|\n",
            "+--------+-----+\n",
            "\n"
          ]
        }
      ]
    },
    {
      "cell_type": "markdown",
      "id": "7d381358",
      "metadata": {
        "id": "7d381358"
      },
      "source": [
        "## Step 7: Visual Analysis\n",
        "Sure! Here's a more natural, conversational version of the story you can tell from the chart:\n",
        "\n",
        "---\n",
        "\n",
        "###  What the Chart Tells Us About Spending Habits\n",
        "\n",
        "Looking at this chart, it’s pretty clear where the money’s going. **Online shopping** tops the list by far, which isn’t too surprising these days—people love the convenience of buying from their phones or laptops. Close behind is **shopping through apps or network platforms**, showing just how common in-app purchases have become.\n",
        "\n",
        "###  Spending on Tech & Home\n",
        "\n",
        "**Electronics** come in third—whether it’s a new gadget or home office gear, tech is clearly a priority. Right after that, we see **miscellaneous in-store purchases** and **home-related expenses**, which likely cover everyday stuff and maybe some home improvements.\n",
        "\n",
        "###  Day-to-Day Lifestyle\n",
        "\n",
        "**Food and dining** sits somewhere in the middle—not super high, not too low—maybe a mix of takeout and home cooking. **Travel** and **personal care** are on the lower end, suggesting people are either cutting back on those areas or saving them for special occasions.\n",
        "\n",
        "###  Getting Around Less?\n",
        "\n",
        "At the bottom is **gas and transport**, which might mean less commuting, possibly due to working from home, or maybe more people using public transport or ride-sharing.\n",
        "\n",
        "---\n",
        "\n",
        "###  Overall Take\n",
        "\n",
        "In short, the spending pattern leans heavily toward **digital convenience, home life, and tech**, while travel and transport take a back seat. It's a snapshot of modern lifestyle priorities—and maybe a cue for where to save or invest next.\n"
      ]
    },
    {
      "cell_type": "code",
      "execution_count": 94,
      "id": "d672467a",
      "metadata": {
        "colab": {
          "base_uri": "https://localhost:8080/",
          "height": 607
        },
        "id": "d672467a",
        "outputId": "653bc2a4-89b8-41ec-be15-4fd3197918f0"
      },
      "outputs": [
        {
          "output_type": "display_data",
          "data": {
            "text/plain": [
              "<Figure size 1000x600 with 1 Axes>"
            ],
            "image/png": "[encoded data removed]"
          },
          "metadata": {}
        }
      ],
      "source": [
        "import matplotlib.pyplot as plt\n",
        "import pandas as pd\n",
        "\n",
        "df_plot = df_clean.select(\"category\", col(\"amt\").cast(\"double\").alias(\"amt\")).groupBy(\"category\").sum(\"amt\").toPandas()\n",
        "df_plot.columns = [\"category\", \"total_amt\"]\n",
        "df_plot = df_plot.sort_values(\"total_amt\", ascending=False)\n",
        "\n",
        "plt.figure(figsize=(10,6))\n",
        "plt.bar(df_plot[\"category\"], df_plot[\"total_amt\"])\n",
        "plt.xticks(rotation=45, ha='right')\n",
        "plt.title(\"Total Transaction Amount by Category\")\n",
        "plt.xlabel(\"Category\")\n",
        "plt.ylabel(\"Total Amount\")\n",
        "plt.tight_layout()\n",
        "plt.show()"
      ]
    },
    {
      "cell_type": "markdown",
      "source": [
        "# CONT.: Visual Analysis\n",
        " Spending by Gender\n",
        "Adding another layer to the story, this chart breaks down total spending by gender. What stands out immediately is that females outspent males by a noticeable margin—over $600 vs. just above $400.\n",
        "\n",
        "This could reflect a few things:\n",
        "\n",
        "Women possibly take on more household or family-related purchases, such as groceries, home supplies, or personal care.\n",
        "\n",
        "It might also align with earlier insights where shopping and lifestyle categories dominate the spending—areas where female consumers tend to be more active.\n",
        "\n",
        "It’s important to note that this isn't about who spends more for fun, but rather who handles more transactions overall—which could simply mean responsibility distribution in spending."
      ],
      "metadata": {
        "id": "4CRgvcx2rgxn"
      },
      "id": "4CRgvcx2rgxn"
    },
    {
      "cell_type": "code",
      "metadata": {
        "colab": {
          "base_uri": "https://localhost:8080/",
          "height": 410
        },
        "id": "72803131",
        "outputId": "ba03f641-40ea-4a1e-8f0d-679bf07e70d0"
      },
      "source": [
        "import matplotlib.pyplot as plt\n",
        "import pandas as pd\n",
        "\n",
        "# Convert Spark DataFrame to Pandas DataFrame for plotting\n",
        "gender_spending_pd = gender_spending.toPandas()\n",
        "\n",
        "# Define colors based on gender\n",
        "colors = gender_spending_pd['gender'].apply(lambda x: 'pink' if x == 'F' else ('blue' if x == 'M' else 'gray'))\n",
        "\n",
        "# Create a bar chart with specified colors\n",
        "plt.figure(figsize=(6, 4))\n",
        "plt.bar(gender_spending_pd[\"gender\"], gender_spending_pd[\"total_spending\"], color=colors)\n",
        "plt.title(\"Total Spending by Gender\")\n",
        "plt.xlabel(\"Gender\")\n",
        "plt.ylabel(\"Total Spending\")\n",
        "plt.show()"
      ],
      "id": "72803131",
      "execution_count": 95,
      "outputs": [
        {
          "output_type": "display_data",
          "data": {
            "text/plain": [
              "<Figure size 600x400 with 1 Axes>"
            ],
            "image/png": "[encoded data removed]"
          },
          "metadata": {}
        }
      ]
    },
    {
      "cell_type": "markdown",
      "id": "0bae6904",
      "metadata": {
        "id": "0bae6904"
      },
      "source": [
        "## ✅ Summary\n",
        "- Loaded and flattened JSON\n",
        "- Extracted names\n",
        "- Converted timestamps\n",
        "- Masked PII\n",
        "- Created a category-wise transaction analysis"
      ]
    }
  ],
  "metadata": {
    "colab": {
      "provenance": []
    },
    "language_info": {
      "name": "python"
    },
    "kernelspec": {
      "name": "python3",
      "display_name": "Python 3"
    }
  },
  "nbformat": 4,
  "nbformat_minor": 5
}